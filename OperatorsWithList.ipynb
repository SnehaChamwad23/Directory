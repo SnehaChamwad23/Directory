{
  "nbformat": 4,
  "nbformat_minor": 0,
  "metadata": {
    "colab": {
      "name": "OperatorsWithList.ipynb",
      "provenance": [],
      "authorship_tag": "ABX9TyMdkp8lE5SYqMjX5/SOF8Y3",
      "include_colab_link": true
    },
    "kernelspec": {
      "name": "python3",
      "display_name": "Python 3"
    },
    "language_info": {
      "name": "python"
    }
  },
  "cells": [
    {
      "cell_type": "markdown",
      "metadata": {
        "id": "view-in-github",
        "colab_type": "text"
      },
      "source": [
        "<a href=\"https://colab.research.google.com/github/SnehaChamwad23/Directory/blob/PythonIntro/OperatorsWithList.ipynb\" target=\"_parent\"><img src=\"https://colab.research.google.com/assets/colab-badge.svg\" alt=\"Open In Colab\"/></a>"
      ]
    },
    {
      "cell_type": "code",
      "execution_count": 2,
      "metadata": {
        "colab": {
          "base_uri": "https://localhost:8080/"
        },
        "id": "MnxqeF2iNmIX",
        "outputId": "ea06541c-1f1d-41a4-839b-9f1f9f1e5eee"
      },
      "outputs": [
        {
          "output_type": "stream",
          "name": "stdout",
          "text": [
            "[2, 4, 6, 8, 1, 3, 5, 7, 9]\n"
          ]
        }
      ],
      "source": [
        "Even_numbers = [2,4,6,8]\n",
        "Odd_numbers = [1,3,5,7,9]\n",
        "All_numbers = Even_numbers + Odd_numbers\n",
        "print(All_numbers)"
      ]
    }
  ]
}