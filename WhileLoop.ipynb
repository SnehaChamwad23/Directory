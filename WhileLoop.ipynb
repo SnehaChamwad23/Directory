{
  "nbformat": 4,
  "nbformat_minor": 0,
  "metadata": {
    "colab": {
      "name": "WhileLoop.ipynb",
      "provenance": [],
      "collapsed_sections": [],
      "authorship_tag": "ABX9TyO6nXnizuB+PC6dFmrqRPir",
      "include_colab_link": true
    },
    "kernelspec": {
      "name": "python3",
      "display_name": "Python 3"
    },
    "language_info": {
      "name": "python"
    }
  },
  "cells": [
    {
      "cell_type": "markdown",
      "metadata": {
        "id": "view-in-github",
        "colab_type": "text"
      },
      "source": [
        "<a href=\"https://colab.research.google.com/github/SnehaChamwad23/Directory/blob/PythonIntro/WhileLoop.ipynb\" target=\"_parent\"><img src=\"https://colab.research.google.com/assets/colab-badge.svg\" alt=\"Open In Colab\"/></a>"
      ]
    },
    {
      "cell_type": "code",
      "execution_count": 3,
      "metadata": {
        "colab": {
          "base_uri": "https://localhost:8080/"
        },
        "id": "O24opdth4HNC",
        "outputId": "349e8e1a-9ca8-45f4-ad0f-d6b5e7667112"
      },
      "outputs": [
        {
          "output_type": "stream",
          "name": "stdout",
          "text": [
            "1\n",
            "2\n",
            "3\n",
            "4\n",
            "5\n",
            "6\n",
            "7\n",
            "8\n",
            "9\n",
            "10\n"
          ]
        }
      ],
      "source": [
        "i = 1\n",
        "while i <= 10:\n",
        "    print(i)\n",
        "    i = i + 1"
      ]
    },
    {
      "cell_type": "code",
      "source": [
        "i = 1\n",
        "n = 2\n",
        "while i <= 10:\n",
        "  print(n, \" * \", i, \" =\", n*i)\n",
        "  i = i+1"
      ],
      "metadata": {
        "colab": {
          "base_uri": "https://localhost:8080/"
        },
        "id": "_DaYNtLI4msS",
        "outputId": "14652620-c091-4c3b-f280-d6e7ccc2ba38"
      },
      "execution_count": 5,
      "outputs": [
        {
          "output_type": "stream",
          "name": "stdout",
          "text": [
            "2  *  1  = 2\n",
            "2  *  2  = 4\n",
            "2  *  3  = 6\n",
            "2  *  4  = 8\n",
            "2  *  5  = 10\n",
            "2  *  6  = 12\n",
            "2  *  7  = 14\n",
            "2  *  8  = 16\n",
            "2  *  9  = 18\n",
            "2  *  10  = 20\n"
          ]
        }
      ]
    },
    {
      "cell_type": "code",
      "source": [
        "l1 = [1,2,3,4,5]\n",
        "i = 0\n",
        "while i < len(l1):\n",
        "     l1[i] = l1[i] + 100\n",
        "     i = i+1\n",
        "l1  "
      ],
      "metadata": {
        "colab": {
          "base_uri": "https://localhost:8080/"
        },
        "id": "sA9QJ0kI5YLd",
        "outputId": "c5abec74-b119-4ceb-ee4f-3e8cb29915ec"
      },
      "execution_count": 7,
      "outputs": [
        {
          "output_type": "execute_result",
          "data": {
            "text/plain": [
              "[101, 102, 103, 104, 105]"
            ]
          },
          "metadata": {},
          "execution_count": 7
        }
      ]
    }
  ]
}