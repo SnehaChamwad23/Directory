{
  "nbformat": 4,
  "nbformat_minor": 0,
  "metadata": {
    "colab": {
      "name": "IfElseStmt.ipynb",
      "provenance": [],
      "authorship_tag": "ABX9TyOo+sTQ/EbS27bmdIRB3HRL",
      "include_colab_link": true
    },
    "kernelspec": {
      "name": "python3",
      "display_name": "Python 3"
    },
    "language_info": {
      "name": "python"
    }
  },
  "cells": [
    {
      "cell_type": "markdown",
      "metadata": {
        "id": "view-in-github",
        "colab_type": "text"
      },
      "source": [
        "<a href=\"https://colab.research.google.com/github/SnehaChamwad23/Directory/blob/PythonIntro/IfElseStmt.ipynb\" target=\"_parent\"><img src=\"https://colab.research.google.com/assets/colab-badge.svg\" alt=\"Open In Colab\"/></a>"
      ]
    },
    {
      "cell_type": "code",
      "execution_count": 2,
      "metadata": {
        "colab": {
          "base_uri": "https://localhost:8080/"
        },
        "id": "iHwEBpRI2GyC",
        "outputId": "e103429b-a4f1-4e1a-c909-dd827f1fa6bb"
      },
      "outputs": [
        {
          "output_type": "stream",
          "name": "stdout",
          "text": [
            "B is greater than A\n"
          ]
        }
      ],
      "source": [
        "a = 10\n",
        "b = 20\n",
        "if a>b:\n",
        "  print(\"A is greater than B\")\n",
        "else:\n",
        "  print(\"B is greater than A\")"
      ]
    },
    {
      "cell_type": "code",
      "source": [
        "a=10\n",
        "b=20\n",
        "c=30\n",
        "if(a>b) & (a>c):\n",
        "   print(\"A is greatest\")\n",
        "elif (b>a) & (b>c):\n",
        "   print(\"B is greatest\")\n",
        "else:\n",
        "   print(\"C is greatest\")"
      ],
      "metadata": {
        "colab": {
          "base_uri": "https://localhost:8080/"
        },
        "id": "ImkupMmE2UT4",
        "outputId": "1bff15d0-2bf7-4d5d-dab7-fafe4cb98b43"
      },
      "execution_count": 3,
      "outputs": [
        {
          "output_type": "stream",
          "name": "stdout",
          "text": [
            "C is greatest\n"
          ]
        }
      ]
    },
    {
      "cell_type": "code",
      "source": [
        "a = 10\n",
        "b = 20\n",
        "if a > b:\n",
        "  print(\"A is greater than B\")\n",
        "else:\n",
        "  print(\"B is greater than A\")\n"
      ],
      "metadata": {
        "colab": {
          "base_uri": "https://localhost:8080/"
        },
        "id": "tm6YJAT02ftD",
        "outputId": "3618a0bd-6399-457f-e425-c7a2ca422f8c"
      },
      "execution_count": 5,
      "outputs": [
        {
          "output_type": "stream",
          "name": "stdout",
          "text": [
            "B is greater than A\n"
          ]
        }
      ]
    },
    {
      "cell_type": "code",
      "source": [
        "a = 10\n",
        "b = 20\n",
        "c = 30\n",
        "if (a>b) & (a>c):\n",
        "    print(\"A is the greatest\")\n",
        "elif (b>a) & (b>c):\n",
        "    print(\"B is the greatest\")\n",
        "else:\n",
        "    print(\"C is the greatest\")"
      ],
      "metadata": {
        "colab": {
          "base_uri": "https://localhost:8080/"
        },
        "id": "u5tu7edF2mdL",
        "outputId": "4e7e6ec9-3b2e-43e9-e5e2-969f34a6672a"
      },
      "execution_count": 7,
      "outputs": [
        {
          "output_type": "stream",
          "name": "stdout",
          "text": [
            "C is the greatest\n"
          ]
        }
      ]
    },
    {
      "cell_type": "code",
      "source": [
        "tup1 = ('a','b','c')\n",
        "if 'z' in tup1:\n",
        "  print(\"Value z is present in tup1\")\n",
        "else:\n",
        "  print(\"Value z is not present in tup1\")\n"
      ],
      "metadata": {
        "colab": {
          "base_uri": "https://localhost:8080/"
        },
        "id": "2ZIWUMPU2np1",
        "outputId": "e03ba589-d766-437a-9a9d-3fdbd1220f49"
      },
      "execution_count": 9,
      "outputs": [
        {
          "output_type": "stream",
          "name": "stdout",
          "text": [
            "Value z is not present in tup1\n"
          ]
        }
      ]
    },
    {
      "cell_type": "code",
      "source": [
        "l1 = ['a','b','c']\n",
        "if l1[1] == 'b':\n",
        "   l1[1] = 'z'\n",
        "l1"
      ],
      "metadata": {
        "colab": {
          "base_uri": "https://localhost:8080/"
        },
        "id": "MHdaW6z72zOo",
        "outputId": "a8ddc0ad-812b-4131-c956-1aa182da5262"
      },
      "execution_count": 11,
      "outputs": [
        {
          "output_type": "execute_result",
          "data": {
            "text/plain": [
              "['a', 'z', 'c']"
            ]
          },
          "metadata": {},
          "execution_count": 11
        }
      ]
    },
    {
      "cell_type": "code",
      "source": [
        "d1 = {'k1':10, 'k2':20, 'k3':30}\n",
        "d1"
      ],
      "metadata": {
        "colab": {
          "base_uri": "https://localhost:8080/"
        },
        "id": "nppF-jN426Pt",
        "outputId": "f49fe5ca-817c-4571-a0d2-95c1bf62a052"
      },
      "execution_count": 14,
      "outputs": [
        {
          "output_type": "execute_result",
          "data": {
            "text/plain": [
              "{'k1': 10, 'k2': 20, 'k3': 30}"
            ]
          },
          "metadata": {},
          "execution_count": 14
        }
      ]
    },
    {
      "cell_type": "code",
      "source": [
        "d1 = {'k1':10, 'k2':20, 'k3':30}\n",
        "if d1['k3']==30:\n",
        "  d1['k3'] = d1['k3'] + 100\n",
        "d1"
      ],
      "metadata": {
        "colab": {
          "base_uri": "https://localhost:8080/"
        },
        "id": "xt1h5oyY3FpB",
        "outputId": "6530dd9b-2d8a-44ab-886b-a6dd6886d220"
      },
      "execution_count": 20,
      "outputs": [
        {
          "output_type": "execute_result",
          "data": {
            "text/plain": [
              "{'k1': 10, 'k2': 20, 'k3': 130}"
            ]
          },
          "metadata": {},
          "execution_count": 20
        }
      ]
    }
  ]
}