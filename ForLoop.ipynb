{
  "nbformat": 4,
  "nbformat_minor": 0,
  "metadata": {
    "colab": {
      "name": "ForLoop.ipynb",
      "provenance": [],
      "authorship_tag": "ABX9TyMVwZFISIe2+EmTiRiMVIrt",
      "include_colab_link": true
    },
    "kernelspec": {
      "name": "python3",
      "display_name": "Python 3"
    },
    "language_info": {
      "name": "python"
    }
  },
  "cells": [
    {
      "cell_type": "markdown",
      "metadata": {
        "id": "view-in-github",
        "colab_type": "text"
      },
      "source": [
        "<a href=\"https://colab.research.google.com/github/SnehaChamwad23/Directory/blob/PythonIntro/ForLoop.ipynb\" target=\"_parent\"><img src=\"https://colab.research.google.com/assets/colab-badge.svg\" alt=\"Open In Colab\"/></a>"
      ]
    },
    {
      "cell_type": "code",
      "execution_count": 8,
      "metadata": {
        "colab": {
          "base_uri": "https://localhost:8080/"
        },
        "id": "6VrCLiIe6fgJ",
        "outputId": "738a7e2d-81f2-42a3-90ba-5475140cd1e2"
      },
      "outputs": [
        {
          "output_type": "stream",
          "name": "stdout",
          "text": [
            "* \r\n",
            "* * \r\n",
            "* * * \r\n",
            "* * * * \r\n",
            "* * * * * \r\n"
          ]
        }
      ],
      "source": [
        "for i in range (0,5):\n",
        "  for j in range(0, i+1):\n",
        "    print(\"*\", end= \" \")\n",
        "  print(\"\\r\")   "
      ]
    }
  ]
}